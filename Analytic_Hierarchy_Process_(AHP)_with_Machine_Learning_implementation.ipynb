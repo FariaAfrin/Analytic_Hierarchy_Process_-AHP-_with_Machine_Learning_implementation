{
  "nbformat": 4,
  "nbformat_minor": 0,
  "metadata": {
    "colab": {
      "provenance": []
    },
    "kernelspec": {
      "name": "python3",
      "display_name": "Python 3"
    },
    "language_info": {
      "name": "python"
    }
  },
  "cells": [
    {
      "cell_type": "code",
      "execution_count": 58,
      "metadata": {
        "id": "X9EL_s5VK_bN"
      },
      "outputs": [],
      "source": [
        "import numpy as np\n",
        "import pandas as pd\n",
        "from sklearn.model_selection import train_test_split\n",
        "from sklearn.ensemble import RandomForestClassifier\n",
        "from sklearn.metrics import accuracy_score"
      ]
    },
    {
      "cell_type": "markdown",
      "source": [
        "**# Step 1: Define the AHP criteria and alternatives**"
      ],
      "metadata": {
        "id": "I_PQa1EULkmY"
      }
    },
    {
      "cell_type": "code",
      "source": [
        "# Step 1: Define the AHP criteria and alternatives\n",
        "criteria = ['Credit Score', 'Income Stability', 'Debt-to-Income Ratio']\n",
        "alternatives = ['Applicant A', 'Applicant B', 'Applicant C', 'Applicant D']"
      ],
      "metadata": {
        "id": "fLQsaMG-LM-N"
      },
      "execution_count": 59,
      "outputs": []
    },
    {
      "cell_type": "markdown",
      "source": [
        "**# Step 2: Obtain expert judgments and assign relative weights using AHP**\n",
        "**... (Code to collect expert judgments and perform pairwise comparisons) **"
      ],
      "metadata": {
        "id": "Ju7OL1T8Lqi1"
      }
    },
    {
      "cell_type": "code",
      "source": [
        "# Example AHP weight calculation\n",
        "pairwise_matrix = np.array([\n",
        "    [1, 3, 5],\n",
        "    [1/3, 1, 3],\n",
        "    [1/5, 1/3, 1]\n",
        "])"
      ],
      "metadata": {
        "id": "qLuIp8EpL0Dw"
      },
      "execution_count": 60,
      "outputs": []
    },
    {
      "cell_type": "code",
      "source": [
        "# Step 2: Normalize the pairwise matrix\n",
        "normalized_matrix = pairwise_matrix / pairwise_matrix.sum(axis=0)"
      ],
      "metadata": {
        "id": "MVSeTev9MOcu"
      },
      "execution_count": 61,
      "outputs": []
    },
    {
      "cell_type": "code",
      "source": [
        "# Step 2: Calculate the average column weights\n",
        "column_weights = normalized_matrix.mean(axis=1)"
      ],
      "metadata": {
        "id": "NbcLP44tMQRL"
      },
      "execution_count": 62,
      "outputs": []
    },
    {
      "cell_type": "code",
      "source": [
        "# Step 2: Normalize the column weights to obtain final AHP weights\n",
        "ahp_weights = column_weights / column_weights.sum()\n",
        "\n",
        "print(\"AHP Weights:\")\n",
        "for criterion, weight in zip(criteria, ahp_weights):\n",
        "    print(f\" {criterion}: {round(weight,1)}\")\n",
        "  #0.6, 0.3, 0.1"
      ],
      "metadata": {
        "colab": {
          "base_uri": "https://localhost:8080/"
        },
        "id": "P6cZmVk-MT4P",
        "outputId": "16b7a2ef-abfa-4363-8fa8-0e5c123376c3"
      },
      "execution_count": 63,
      "outputs": [
        {
          "output_type": "stream",
          "name": "stdout",
          "text": [
            "AHP Weights:\n",
            " Credit Score: 0.6\n",
            " Income Stability: 0.3\n",
            " Debt-to-Income Ratio: 0.1\n"
          ]
        }
      ]
    },
    {
      "cell_type": "markdown",
      "source": [
        "**# Step 3: Prepare the data for machine learning**\n",
        "**# ... (Code to load and preprocess your data, including feature engineering)"
      ],
      "metadata": {
        "id": "tAnhUslYMeH0"
      }
    },
    {
      "cell_type": "code",
      "source": [
        "#data = https://drive.google.com/file/d/1Eoypwt76AonatQTORFWUEOlLhA3QSHqz/view?usp=sharing\n",
        "# data1 = https://drive.google.com/file/d/1ESJjt_NVuFZf2U_qNPtckNbS5dZRUjBN/view?usp=sharing\n",
        "# dataset_path=r'https://drive.google.com/uc?export=download&id=1ESJjt_NVuFZf2U_qNPtckNbS5dZRUjBN'\n",
        "# https://drive.google.com/file/d/1hxj3Ndzr2oLeJ6leaaf2TMsA78VTnY4n/view?usp=sharing\n",
        "dataset_path=r'https://drive.google.com/uc?export=download&id=1hxj3Ndzr2oLeJ6leaaf2TMsA78VTnY4n'\n",
        "dataset=pd.read_csv(dataset_path)\n",
        "dataset"
      ],
      "metadata": {
        "colab": {
          "base_uri": "https://localhost:8080/",
          "height": 424
        },
        "id": "9mqpVT_7MgOT",
        "outputId": "40f39f84-fa8c-4b15-da5f-7db0f313d0f2"
      },
      "execution_count": 64,
      "outputs": [
        {
          "output_type": "execute_result",
          "data": {
            "text/plain": [
              "      Applicant  Credit Score Income Stability  Debt-to-Income Ratio\n",
              "0   Applicant A      0.374540         Unstable              0.731994\n",
              "1   Applicant D      0.598658         Unstable              0.155995\n",
              "2   Applicant D      0.058084           Stable              0.601115\n",
              "3   Applicant B      0.708073         Unstable              0.969910\n",
              "4   Applicant C      0.832443           Stable              0.181825\n",
              "..          ...           ...              ...                   ...\n",
              "95  Applicant D      0.035942           Stable              0.542645\n",
              "96  Applicant C      0.286541           Stable              0.030500\n",
              "97  Applicant B      0.037348           Stable              0.360191\n",
              "98  Applicant B      0.127061           Stable              0.769994\n",
              "99  Applicant C      0.215821           Stable              0.085347\n",
              "\n",
              "[100 rows x 4 columns]"
            ],
            "text/html": [
              "\n",
              "\n",
              "  <div id=\"df-5f1338c1-aac1-4c35-b052-9a67af106220\">\n",
              "    <div class=\"colab-df-container\">\n",
              "      <div>\n",
              "<style scoped>\n",
              "    .dataframe tbody tr th:only-of-type {\n",
              "        vertical-align: middle;\n",
              "    }\n",
              "\n",
              "    .dataframe tbody tr th {\n",
              "        vertical-align: top;\n",
              "    }\n",
              "\n",
              "    .dataframe thead th {\n",
              "        text-align: right;\n",
              "    }\n",
              "</style>\n",
              "<table border=\"1\" class=\"dataframe\">\n",
              "  <thead>\n",
              "    <tr style=\"text-align: right;\">\n",
              "      <th></th>\n",
              "      <th>Applicant</th>\n",
              "      <th>Credit Score</th>\n",
              "      <th>Income Stability</th>\n",
              "      <th>Debt-to-Income Ratio</th>\n",
              "    </tr>\n",
              "  </thead>\n",
              "  <tbody>\n",
              "    <tr>\n",
              "      <th>0</th>\n",
              "      <td>Applicant A</td>\n",
              "      <td>0.374540</td>\n",
              "      <td>Unstable</td>\n",
              "      <td>0.731994</td>\n",
              "    </tr>\n",
              "    <tr>\n",
              "      <th>1</th>\n",
              "      <td>Applicant D</td>\n",
              "      <td>0.598658</td>\n",
              "      <td>Unstable</td>\n",
              "      <td>0.155995</td>\n",
              "    </tr>\n",
              "    <tr>\n",
              "      <th>2</th>\n",
              "      <td>Applicant D</td>\n",
              "      <td>0.058084</td>\n",
              "      <td>Stable</td>\n",
              "      <td>0.601115</td>\n",
              "    </tr>\n",
              "    <tr>\n",
              "      <th>3</th>\n",
              "      <td>Applicant B</td>\n",
              "      <td>0.708073</td>\n",
              "      <td>Unstable</td>\n",
              "      <td>0.969910</td>\n",
              "    </tr>\n",
              "    <tr>\n",
              "      <th>4</th>\n",
              "      <td>Applicant C</td>\n",
              "      <td>0.832443</td>\n",
              "      <td>Stable</td>\n",
              "      <td>0.181825</td>\n",
              "    </tr>\n",
              "    <tr>\n",
              "      <th>...</th>\n",
              "      <td>...</td>\n",
              "      <td>...</td>\n",
              "      <td>...</td>\n",
              "      <td>...</td>\n",
              "    </tr>\n",
              "    <tr>\n",
              "      <th>95</th>\n",
              "      <td>Applicant D</td>\n",
              "      <td>0.035942</td>\n",
              "      <td>Stable</td>\n",
              "      <td>0.542645</td>\n",
              "    </tr>\n",
              "    <tr>\n",
              "      <th>96</th>\n",
              "      <td>Applicant C</td>\n",
              "      <td>0.286541</td>\n",
              "      <td>Stable</td>\n",
              "      <td>0.030500</td>\n",
              "    </tr>\n",
              "    <tr>\n",
              "      <th>97</th>\n",
              "      <td>Applicant B</td>\n",
              "      <td>0.037348</td>\n",
              "      <td>Stable</td>\n",
              "      <td>0.360191</td>\n",
              "    </tr>\n",
              "    <tr>\n",
              "      <th>98</th>\n",
              "      <td>Applicant B</td>\n",
              "      <td>0.127061</td>\n",
              "      <td>Stable</td>\n",
              "      <td>0.769994</td>\n",
              "    </tr>\n",
              "    <tr>\n",
              "      <th>99</th>\n",
              "      <td>Applicant C</td>\n",
              "      <td>0.215821</td>\n",
              "      <td>Stable</td>\n",
              "      <td>0.085347</td>\n",
              "    </tr>\n",
              "  </tbody>\n",
              "</table>\n",
              "<p>100 rows × 4 columns</p>\n",
              "</div>\n",
              "      <button class=\"colab-df-convert\" onclick=\"convertToInteractive('df-5f1338c1-aac1-4c35-b052-9a67af106220')\"\n",
              "              title=\"Convert this dataframe to an interactive table.\"\n",
              "              style=\"display:none;\">\n",
              "\n",
              "  <svg xmlns=\"http://www.w3.org/2000/svg\" height=\"24px\"viewBox=\"0 0 24 24\"\n",
              "       width=\"24px\">\n",
              "    <path d=\"M0 0h24v24H0V0z\" fill=\"none\"/>\n",
              "    <path d=\"M18.56 5.44l.94 2.06.94-2.06 2.06-.94-2.06-.94-.94-2.06-.94 2.06-2.06.94zm-11 1L8.5 8.5l.94-2.06 2.06-.94-2.06-.94L8.5 2.5l-.94 2.06-2.06.94zm10 10l.94 2.06.94-2.06 2.06-.94-2.06-.94-.94-2.06-.94 2.06-2.06.94z\"/><path d=\"M17.41 7.96l-1.37-1.37c-.4-.4-.92-.59-1.43-.59-.52 0-1.04.2-1.43.59L10.3 9.45l-7.72 7.72c-.78.78-.78 2.05 0 2.83L4 21.41c.39.39.9.59 1.41.59.51 0 1.02-.2 1.41-.59l7.78-7.78 2.81-2.81c.8-.78.8-2.07 0-2.86zM5.41 20L4 18.59l7.72-7.72 1.47 1.35L5.41 20z\"/>\n",
              "  </svg>\n",
              "      </button>\n",
              "\n",
              "\n",
              "\n",
              "    <div id=\"df-697db652-28e5-4216-b0e1-84ce43797e1a\">\n",
              "      <button class=\"colab-df-quickchart\" onclick=\"quickchart('df-697db652-28e5-4216-b0e1-84ce43797e1a')\"\n",
              "              title=\"Suggest charts.\"\n",
              "              style=\"display:none;\">\n",
              "\n",
              "<svg xmlns=\"http://www.w3.org/2000/svg\" height=\"24px\"viewBox=\"0 0 24 24\"\n",
              "     width=\"24px\">\n",
              "    <g>\n",
              "        <path d=\"M19 3H5c-1.1 0-2 .9-2 2v14c0 1.1.9 2 2 2h14c1.1 0 2-.9 2-2V5c0-1.1-.9-2-2-2zM9 17H7v-7h2v7zm4 0h-2V7h2v10zm4 0h-2v-4h2v4z\"/>\n",
              "    </g>\n",
              "</svg>\n",
              "      </button>\n",
              "    </div>\n",
              "\n",
              "<style>\n",
              "  .colab-df-quickchart {\n",
              "    background-color: #E8F0FE;\n",
              "    border: none;\n",
              "    border-radius: 50%;\n",
              "    cursor: pointer;\n",
              "    display: none;\n",
              "    fill: #1967D2;\n",
              "    height: 32px;\n",
              "    padding: 0 0 0 0;\n",
              "    width: 32px;\n",
              "  }\n",
              "\n",
              "  .colab-df-quickchart:hover {\n",
              "    background-color: #E2EBFA;\n",
              "    box-shadow: 0px 1px 2px rgba(60, 64, 67, 0.3), 0px 1px 3px 1px rgba(60, 64, 67, 0.15);\n",
              "    fill: #174EA6;\n",
              "  }\n",
              "\n",
              "  [theme=dark] .colab-df-quickchart {\n",
              "    background-color: #3B4455;\n",
              "    fill: #D2E3FC;\n",
              "  }\n",
              "\n",
              "  [theme=dark] .colab-df-quickchart:hover {\n",
              "    background-color: #434B5C;\n",
              "    box-shadow: 0px 1px 3px 1px rgba(0, 0, 0, 0.15);\n",
              "    filter: drop-shadow(0px 1px 2px rgba(0, 0, 0, 0.3));\n",
              "    fill: #FFFFFF;\n",
              "  }\n",
              "</style>\n",
              "\n",
              "    <script>\n",
              "      async function quickchart(key) {\n",
              "        const containerElement = document.querySelector('#' + key);\n",
              "        const charts = await google.colab.kernel.invokeFunction(\n",
              "            'suggestCharts', [key], {});\n",
              "      }\n",
              "    </script>\n",
              "\n",
              "      <script>\n",
              "\n",
              "function displayQuickchartButton(domScope) {\n",
              "  let quickchartButtonEl =\n",
              "    domScope.querySelector('#df-697db652-28e5-4216-b0e1-84ce43797e1a button.colab-df-quickchart');\n",
              "  quickchartButtonEl.style.display =\n",
              "    google.colab.kernel.accessAllowed ? 'block' : 'none';\n",
              "}\n",
              "\n",
              "        displayQuickchartButton(document);\n",
              "      </script>\n",
              "      <style>\n",
              "    .colab-df-container {\n",
              "      display:flex;\n",
              "      flex-wrap:wrap;\n",
              "      gap: 12px;\n",
              "    }\n",
              "\n",
              "    .colab-df-convert {\n",
              "      background-color: #E8F0FE;\n",
              "      border: none;\n",
              "      border-radius: 50%;\n",
              "      cursor: pointer;\n",
              "      display: none;\n",
              "      fill: #1967D2;\n",
              "      height: 32px;\n",
              "      padding: 0 0 0 0;\n",
              "      width: 32px;\n",
              "    }\n",
              "\n",
              "    .colab-df-convert:hover {\n",
              "      background-color: #E2EBFA;\n",
              "      box-shadow: 0px 1px 2px rgba(60, 64, 67, 0.3), 0px 1px 3px 1px rgba(60, 64, 67, 0.15);\n",
              "      fill: #174EA6;\n",
              "    }\n",
              "\n",
              "    [theme=dark] .colab-df-convert {\n",
              "      background-color: #3B4455;\n",
              "      fill: #D2E3FC;\n",
              "    }\n",
              "\n",
              "    [theme=dark] .colab-df-convert:hover {\n",
              "      background-color: #434B5C;\n",
              "      box-shadow: 0px 1px 3px 1px rgba(0, 0, 0, 0.15);\n",
              "      filter: drop-shadow(0px 1px 2px rgba(0, 0, 0, 0.3));\n",
              "      fill: #FFFFFF;\n",
              "    }\n",
              "  </style>\n",
              "\n",
              "      <script>\n",
              "        const buttonEl =\n",
              "          document.querySelector('#df-5f1338c1-aac1-4c35-b052-9a67af106220 button.colab-df-convert');\n",
              "        buttonEl.style.display =\n",
              "          google.colab.kernel.accessAllowed ? 'block' : 'none';\n",
              "\n",
              "        async function convertToInteractive(key) {\n",
              "          const element = document.querySelector('#df-5f1338c1-aac1-4c35-b052-9a67af106220');\n",
              "          const dataTable =\n",
              "            await google.colab.kernel.invokeFunction('convertToInteractive',\n",
              "                                                     [key], {});\n",
              "          if (!dataTable) return;\n",
              "\n",
              "          const docLinkHtml = 'Like what you see? Visit the ' +\n",
              "            '<a target=\"_blank\" href=https://colab.research.google.com/notebooks/data_table.ipynb>data table notebook</a>'\n",
              "            + ' to learn more about interactive tables.';\n",
              "          element.innerHTML = '';\n",
              "          dataTable['output_type'] = 'display_data';\n",
              "          await google.colab.output.renderOutput(dataTable, element);\n",
              "          const docLink = document.createElement('div');\n",
              "          docLink.innerHTML = docLinkHtml;\n",
              "          element.appendChild(docLink);\n",
              "        }\n",
              "      </script>\n",
              "    </div>\n",
              "  </div>\n"
            ]
          },
          "metadata": {},
          "execution_count": 64
        }
      ]
    },
    {
      "cell_type": "code",
      "source": [
        "# Perform feature engineering/One hot encoding and preprocessing\n",
        "# Step 1: Encode categorical variable/One hot encoding\n",
        "from sklearn.preprocessing import LabelEncoder, StandardScaler\n",
        "label_encoder = LabelEncoder()\n",
        "dataset['Income Stability'] = label_encoder.fit_transform(dataset['Income Stability'])  # 'Stable' is encoded as 0, and 'Unstable' is encoded as 1."
      ],
      "metadata": {
        "id": "eW0CfnmNYpfH"
      },
      "execution_count": 65,
      "outputs": []
    },
    {
      "cell_type": "code",
      "source": [
        "dataset"
      ],
      "metadata": {
        "colab": {
          "base_uri": "https://localhost:8080/",
          "height": 424
        },
        "id": "DHEAEUXSZhMx",
        "outputId": "6bf42884-0263-4da8-af9e-57a06302247a"
      },
      "execution_count": 66,
      "outputs": [
        {
          "output_type": "execute_result",
          "data": {
            "text/plain": [
              "      Applicant  Credit Score  Income Stability  Debt-to-Income Ratio\n",
              "0   Applicant A      0.374540                 1              0.731994\n",
              "1   Applicant D      0.598658                 1              0.155995\n",
              "2   Applicant D      0.058084                 0              0.601115\n",
              "3   Applicant B      0.708073                 1              0.969910\n",
              "4   Applicant C      0.832443                 0              0.181825\n",
              "..          ...           ...               ...                   ...\n",
              "95  Applicant D      0.035942                 0              0.542645\n",
              "96  Applicant C      0.286541                 0              0.030500\n",
              "97  Applicant B      0.037348                 0              0.360191\n",
              "98  Applicant B      0.127061                 0              0.769994\n",
              "99  Applicant C      0.215821                 0              0.085347\n",
              "\n",
              "[100 rows x 4 columns]"
            ],
            "text/html": [
              "\n",
              "\n",
              "  <div id=\"df-95e0334b-3e6f-44f6-9715-bc7181a8f60a\">\n",
              "    <div class=\"colab-df-container\">\n",
              "      <div>\n",
              "<style scoped>\n",
              "    .dataframe tbody tr th:only-of-type {\n",
              "        vertical-align: middle;\n",
              "    }\n",
              "\n",
              "    .dataframe tbody tr th {\n",
              "        vertical-align: top;\n",
              "    }\n",
              "\n",
              "    .dataframe thead th {\n",
              "        text-align: right;\n",
              "    }\n",
              "</style>\n",
              "<table border=\"1\" class=\"dataframe\">\n",
              "  <thead>\n",
              "    <tr style=\"text-align: right;\">\n",
              "      <th></th>\n",
              "      <th>Applicant</th>\n",
              "      <th>Credit Score</th>\n",
              "      <th>Income Stability</th>\n",
              "      <th>Debt-to-Income Ratio</th>\n",
              "    </tr>\n",
              "  </thead>\n",
              "  <tbody>\n",
              "    <tr>\n",
              "      <th>0</th>\n",
              "      <td>Applicant A</td>\n",
              "      <td>0.374540</td>\n",
              "      <td>1</td>\n",
              "      <td>0.731994</td>\n",
              "    </tr>\n",
              "    <tr>\n",
              "      <th>1</th>\n",
              "      <td>Applicant D</td>\n",
              "      <td>0.598658</td>\n",
              "      <td>1</td>\n",
              "      <td>0.155995</td>\n",
              "    </tr>\n",
              "    <tr>\n",
              "      <th>2</th>\n",
              "      <td>Applicant D</td>\n",
              "      <td>0.058084</td>\n",
              "      <td>0</td>\n",
              "      <td>0.601115</td>\n",
              "    </tr>\n",
              "    <tr>\n",
              "      <th>3</th>\n",
              "      <td>Applicant B</td>\n",
              "      <td>0.708073</td>\n",
              "      <td>1</td>\n",
              "      <td>0.969910</td>\n",
              "    </tr>\n",
              "    <tr>\n",
              "      <th>4</th>\n",
              "      <td>Applicant C</td>\n",
              "      <td>0.832443</td>\n",
              "      <td>0</td>\n",
              "      <td>0.181825</td>\n",
              "    </tr>\n",
              "    <tr>\n",
              "      <th>...</th>\n",
              "      <td>...</td>\n",
              "      <td>...</td>\n",
              "      <td>...</td>\n",
              "      <td>...</td>\n",
              "    </tr>\n",
              "    <tr>\n",
              "      <th>95</th>\n",
              "      <td>Applicant D</td>\n",
              "      <td>0.035942</td>\n",
              "      <td>0</td>\n",
              "      <td>0.542645</td>\n",
              "    </tr>\n",
              "    <tr>\n",
              "      <th>96</th>\n",
              "      <td>Applicant C</td>\n",
              "      <td>0.286541</td>\n",
              "      <td>0</td>\n",
              "      <td>0.030500</td>\n",
              "    </tr>\n",
              "    <tr>\n",
              "      <th>97</th>\n",
              "      <td>Applicant B</td>\n",
              "      <td>0.037348</td>\n",
              "      <td>0</td>\n",
              "      <td>0.360191</td>\n",
              "    </tr>\n",
              "    <tr>\n",
              "      <th>98</th>\n",
              "      <td>Applicant B</td>\n",
              "      <td>0.127061</td>\n",
              "      <td>0</td>\n",
              "      <td>0.769994</td>\n",
              "    </tr>\n",
              "    <tr>\n",
              "      <th>99</th>\n",
              "      <td>Applicant C</td>\n",
              "      <td>0.215821</td>\n",
              "      <td>0</td>\n",
              "      <td>0.085347</td>\n",
              "    </tr>\n",
              "  </tbody>\n",
              "</table>\n",
              "<p>100 rows × 4 columns</p>\n",
              "</div>\n",
              "      <button class=\"colab-df-convert\" onclick=\"convertToInteractive('df-95e0334b-3e6f-44f6-9715-bc7181a8f60a')\"\n",
              "              title=\"Convert this dataframe to an interactive table.\"\n",
              "              style=\"display:none;\">\n",
              "\n",
              "  <svg xmlns=\"http://www.w3.org/2000/svg\" height=\"24px\"viewBox=\"0 0 24 24\"\n",
              "       width=\"24px\">\n",
              "    <path d=\"M0 0h24v24H0V0z\" fill=\"none\"/>\n",
              "    <path d=\"M18.56 5.44l.94 2.06.94-2.06 2.06-.94-2.06-.94-.94-2.06-.94 2.06-2.06.94zm-11 1L8.5 8.5l.94-2.06 2.06-.94-2.06-.94L8.5 2.5l-.94 2.06-2.06.94zm10 10l.94 2.06.94-2.06 2.06-.94-2.06-.94-.94-2.06-.94 2.06-2.06.94z\"/><path d=\"M17.41 7.96l-1.37-1.37c-.4-.4-.92-.59-1.43-.59-.52 0-1.04.2-1.43.59L10.3 9.45l-7.72 7.72c-.78.78-.78 2.05 0 2.83L4 21.41c.39.39.9.59 1.41.59.51 0 1.02-.2 1.41-.59l7.78-7.78 2.81-2.81c.8-.78.8-2.07 0-2.86zM5.41 20L4 18.59l7.72-7.72 1.47 1.35L5.41 20z\"/>\n",
              "  </svg>\n",
              "      </button>\n",
              "\n",
              "\n",
              "\n",
              "    <div id=\"df-93428c22-6c57-4bf3-8a7b-63289339ce90\">\n",
              "      <button class=\"colab-df-quickchart\" onclick=\"quickchart('df-93428c22-6c57-4bf3-8a7b-63289339ce90')\"\n",
              "              title=\"Suggest charts.\"\n",
              "              style=\"display:none;\">\n",
              "\n",
              "<svg xmlns=\"http://www.w3.org/2000/svg\" height=\"24px\"viewBox=\"0 0 24 24\"\n",
              "     width=\"24px\">\n",
              "    <g>\n",
              "        <path d=\"M19 3H5c-1.1 0-2 .9-2 2v14c0 1.1.9 2 2 2h14c1.1 0 2-.9 2-2V5c0-1.1-.9-2-2-2zM9 17H7v-7h2v7zm4 0h-2V7h2v10zm4 0h-2v-4h2v4z\"/>\n",
              "    </g>\n",
              "</svg>\n",
              "      </button>\n",
              "    </div>\n",
              "\n",
              "<style>\n",
              "  .colab-df-quickchart {\n",
              "    background-color: #E8F0FE;\n",
              "    border: none;\n",
              "    border-radius: 50%;\n",
              "    cursor: pointer;\n",
              "    display: none;\n",
              "    fill: #1967D2;\n",
              "    height: 32px;\n",
              "    padding: 0 0 0 0;\n",
              "    width: 32px;\n",
              "  }\n",
              "\n",
              "  .colab-df-quickchart:hover {\n",
              "    background-color: #E2EBFA;\n",
              "    box-shadow: 0px 1px 2px rgba(60, 64, 67, 0.3), 0px 1px 3px 1px rgba(60, 64, 67, 0.15);\n",
              "    fill: #174EA6;\n",
              "  }\n",
              "\n",
              "  [theme=dark] .colab-df-quickchart {\n",
              "    background-color: #3B4455;\n",
              "    fill: #D2E3FC;\n",
              "  }\n",
              "\n",
              "  [theme=dark] .colab-df-quickchart:hover {\n",
              "    background-color: #434B5C;\n",
              "    box-shadow: 0px 1px 3px 1px rgba(0, 0, 0, 0.15);\n",
              "    filter: drop-shadow(0px 1px 2px rgba(0, 0, 0, 0.3));\n",
              "    fill: #FFFFFF;\n",
              "  }\n",
              "</style>\n",
              "\n",
              "    <script>\n",
              "      async function quickchart(key) {\n",
              "        const containerElement = document.querySelector('#' + key);\n",
              "        const charts = await google.colab.kernel.invokeFunction(\n",
              "            'suggestCharts', [key], {});\n",
              "      }\n",
              "    </script>\n",
              "\n",
              "      <script>\n",
              "\n",
              "function displayQuickchartButton(domScope) {\n",
              "  let quickchartButtonEl =\n",
              "    domScope.querySelector('#df-93428c22-6c57-4bf3-8a7b-63289339ce90 button.colab-df-quickchart');\n",
              "  quickchartButtonEl.style.display =\n",
              "    google.colab.kernel.accessAllowed ? 'block' : 'none';\n",
              "}\n",
              "\n",
              "        displayQuickchartButton(document);\n",
              "      </script>\n",
              "      <style>\n",
              "    .colab-df-container {\n",
              "      display:flex;\n",
              "      flex-wrap:wrap;\n",
              "      gap: 12px;\n",
              "    }\n",
              "\n",
              "    .colab-df-convert {\n",
              "      background-color: #E8F0FE;\n",
              "      border: none;\n",
              "      border-radius: 50%;\n",
              "      cursor: pointer;\n",
              "      display: none;\n",
              "      fill: #1967D2;\n",
              "      height: 32px;\n",
              "      padding: 0 0 0 0;\n",
              "      width: 32px;\n",
              "    }\n",
              "\n",
              "    .colab-df-convert:hover {\n",
              "      background-color: #E2EBFA;\n",
              "      box-shadow: 0px 1px 2px rgba(60, 64, 67, 0.3), 0px 1px 3px 1px rgba(60, 64, 67, 0.15);\n",
              "      fill: #174EA6;\n",
              "    }\n",
              "\n",
              "    [theme=dark] .colab-df-convert {\n",
              "      background-color: #3B4455;\n",
              "      fill: #D2E3FC;\n",
              "    }\n",
              "\n",
              "    [theme=dark] .colab-df-convert:hover {\n",
              "      background-color: #434B5C;\n",
              "      box-shadow: 0px 1px 3px 1px rgba(0, 0, 0, 0.15);\n",
              "      filter: drop-shadow(0px 1px 2px rgba(0, 0, 0, 0.3));\n",
              "      fill: #FFFFFF;\n",
              "    }\n",
              "  </style>\n",
              "\n",
              "      <script>\n",
              "        const buttonEl =\n",
              "          document.querySelector('#df-95e0334b-3e6f-44f6-9715-bc7181a8f60a button.colab-df-convert');\n",
              "        buttonEl.style.display =\n",
              "          google.colab.kernel.accessAllowed ? 'block' : 'none';\n",
              "\n",
              "        async function convertToInteractive(key) {\n",
              "          const element = document.querySelector('#df-95e0334b-3e6f-44f6-9715-bc7181a8f60a');\n",
              "          const dataTable =\n",
              "            await google.colab.kernel.invokeFunction('convertToInteractive',\n",
              "                                                     [key], {});\n",
              "          if (!dataTable) return;\n",
              "\n",
              "          const docLinkHtml = 'Like what you see? Visit the ' +\n",
              "            '<a target=\"_blank\" href=https://colab.research.google.com/notebooks/data_table.ipynb>data table notebook</a>'\n",
              "            + ' to learn more about interactive tables.';\n",
              "          element.innerHTML = '';\n",
              "          dataTable['output_type'] = 'display_data';\n",
              "          await google.colab.output.renderOutput(dataTable, element);\n",
              "          const docLink = document.createElement('div');\n",
              "          docLink.innerHTML = docLinkHtml;\n",
              "          element.appendChild(docLink);\n",
              "        }\n",
              "      </script>\n",
              "    </div>\n",
              "  </div>\n"
            ]
          },
          "metadata": {},
          "execution_count": 66
        }
      ]
    },
    {
      "cell_type": "code",
      "source": [
        "# Step 2: Scale numerical variables\n",
        "scaler = StandardScaler()\n",
        "dataset[['Credit Score', 'Debt-to-Income Ratio']] = scaler.fit_transform(dataset[['Credit Score', 'Debt-to-Income Ratio']])\n",
        "\n",
        "# Print the preprocessed DataFrame\n",
        "print(dataset)"
      ],
      "metadata": {
        "colab": {
          "base_uri": "https://localhost:8080/"
        },
        "id": "BooSO6YaZn_1",
        "outputId": "5f102f40-487f-485b-d313-90d498b982f1"
      },
      "execution_count": 67,
      "outputs": [
        {
          "output_type": "stream",
          "name": "stdout",
          "text": [
            "      Applicant  Credit Score  Income Stability  Debt-to-Income Ratio\n",
            "0   Applicant A     -0.359580                 1              0.822168\n",
            "1   Applicant D      0.428116                 1             -1.187110\n",
            "2   Applicant D     -1.471813                 0              0.365619\n",
            "3   Applicant B      0.812668                 1              1.652098\n",
            "4   Applicant C      1.249785                 0             -1.097005\n",
            "..          ...           ...               ...                   ...\n",
            "95  Applicant D     -1.549632                 0              0.161654\n",
            "96  Applicant C     -0.668865                 0             -1.624876\n",
            "97  Applicant B     -1.544690                 0             -0.474806\n",
            "98  Applicant B     -1.229383                 0              0.954723\n",
            "99  Applicant C     -0.917422                 0             -1.433551\n",
            "\n",
            "[100 rows x 4 columns]\n"
          ]
        }
      ]
    },
    {
      "cell_type": "markdown",
      "source": [
        "**# Step 4: Assign weights to the features based on AHP weights**"
      ],
      "metadata": {
        "id": "AxWd0Id4iZNH"
      }
    },
    {
      "cell_type": "code",
      "source": [
        "# Step 4: Assign weights to the features based on AHP weights\n",
        "feature_weights = np.array([0.6, 0.3, 0.1])  # Example AHP weights"
      ],
      "metadata": {
        "id": "EBL6kHXaibzm"
      },
      "execution_count": 68,
      "outputs": []
    },
    {
      "cell_type": "markdown",
      "source": [
        "**# Step 5: Split the data into training and testing sets**"
      ],
      "metadata": {
        "id": "bLwUU-3kii3q"
      }
    },
    {
      "cell_type": "code",
      "source": [
        "X = dataset.drop(\"Applicant\", axis = 1)\n",
        "y = dataset[\"Applicant\"]\n",
        "print('Shape of X = ', X.shape)\n",
        "print('Shape of y = ', y.shape)"
      ],
      "metadata": {
        "colab": {
          "base_uri": "https://localhost:8080/"
        },
        "id": "MN3qoeoSkVDM",
        "outputId": "8c24c4e0-b0d7-4819-c1b6-bf15ac4d5b27"
      },
      "execution_count": 69,
      "outputs": [
        {
          "output_type": "stream",
          "name": "stdout",
          "text": [
            "Shape of X =  (100, 3)\n",
            "Shape of y =  (100,)\n"
          ]
        }
      ]
    },
    {
      "cell_type": "code",
      "source": [
        "# Step 5: Split the data into training and testing sets\n",
        "X_train, X_test, y_train, y_test = train_test_split(X, y, test_size=0.2, random_state=51)"
      ],
      "metadata": {
        "id": "moWuimI3ilgm"
      },
      "execution_count": 70,
      "outputs": []
    },
    {
      "cell_type": "markdown",
      "source": [
        "**# Step 6: Apply the AHP-weighted features to the machine learning model**"
      ],
      "metadata": {
        "id": "UH70V6n5lFUn"
      }
    },
    {
      "cell_type": "code",
      "source": [
        "# Step 6: Apply the AHP-weighted features to the machine learning model\n",
        "X_train_weighted = X_train * feature_weights\n",
        "X_test_weighted = X_test * feature_weights"
      ],
      "metadata": {
        "id": "J9RMYXTDlHpE"
      },
      "execution_count": 71,
      "outputs": []
    },
    {
      "cell_type": "markdown",
      "source": [
        "**# Step 7: Train the machine learning model**\n"
      ],
      "metadata": {
        "id": "Kaiqnrc7lOcw"
      }
    },
    {
      "cell_type": "code",
      "source": [
        "# Step 7: Train the machine learning model - Random Forest Classifier\n",
        "RFCmodel = RandomForestClassifier(n_estimators=100)\n",
        "RFCmodel.fit(X_train_weighted, y_train)"
      ],
      "metadata": {
        "colab": {
          "base_uri": "https://localhost:8080/",
          "height": 75
        },
        "id": "R8_JoQo-lN7i",
        "outputId": "be30c6b2-a32e-445f-9502-604ec8e9b69d"
      },
      "execution_count": 72,
      "outputs": [
        {
          "output_type": "execute_result",
          "data": {
            "text/plain": [
              "RandomForestClassifier()"
            ],
            "text/html": [
              "<style>#sk-container-id-3 {color: black;background-color: white;}#sk-container-id-3 pre{padding: 0;}#sk-container-id-3 div.sk-toggleable {background-color: white;}#sk-container-id-3 label.sk-toggleable__label {cursor: pointer;display: block;width: 100%;margin-bottom: 0;padding: 0.3em;box-sizing: border-box;text-align: center;}#sk-container-id-3 label.sk-toggleable__label-arrow:before {content: \"▸\";float: left;margin-right: 0.25em;color: #696969;}#sk-container-id-3 label.sk-toggleable__label-arrow:hover:before {color: black;}#sk-container-id-3 div.sk-estimator:hover label.sk-toggleable__label-arrow:before {color: black;}#sk-container-id-3 div.sk-toggleable__content {max-height: 0;max-width: 0;overflow: hidden;text-align: left;background-color: #f0f8ff;}#sk-container-id-3 div.sk-toggleable__content pre {margin: 0.2em;color: black;border-radius: 0.25em;background-color: #f0f8ff;}#sk-container-id-3 input.sk-toggleable__control:checked~div.sk-toggleable__content {max-height: 200px;max-width: 100%;overflow: auto;}#sk-container-id-3 input.sk-toggleable__control:checked~label.sk-toggleable__label-arrow:before {content: \"▾\";}#sk-container-id-3 div.sk-estimator input.sk-toggleable__control:checked~label.sk-toggleable__label {background-color: #d4ebff;}#sk-container-id-3 div.sk-label input.sk-toggleable__control:checked~label.sk-toggleable__label {background-color: #d4ebff;}#sk-container-id-3 input.sk-hidden--visually {border: 0;clip: rect(1px 1px 1px 1px);clip: rect(1px, 1px, 1px, 1px);height: 1px;margin: -1px;overflow: hidden;padding: 0;position: absolute;width: 1px;}#sk-container-id-3 div.sk-estimator {font-family: monospace;background-color: #f0f8ff;border: 1px dotted black;border-radius: 0.25em;box-sizing: border-box;margin-bottom: 0.5em;}#sk-container-id-3 div.sk-estimator:hover {background-color: #d4ebff;}#sk-container-id-3 div.sk-parallel-item::after {content: \"\";width: 100%;border-bottom: 1px solid gray;flex-grow: 1;}#sk-container-id-3 div.sk-label:hover label.sk-toggleable__label {background-color: #d4ebff;}#sk-container-id-3 div.sk-serial::before {content: \"\";position: absolute;border-left: 1px solid gray;box-sizing: border-box;top: 0;bottom: 0;left: 50%;z-index: 0;}#sk-container-id-3 div.sk-serial {display: flex;flex-direction: column;align-items: center;background-color: white;padding-right: 0.2em;padding-left: 0.2em;position: relative;}#sk-container-id-3 div.sk-item {position: relative;z-index: 1;}#sk-container-id-3 div.sk-parallel {display: flex;align-items: stretch;justify-content: center;background-color: white;position: relative;}#sk-container-id-3 div.sk-item::before, #sk-container-id-3 div.sk-parallel-item::before {content: \"\";position: absolute;border-left: 1px solid gray;box-sizing: border-box;top: 0;bottom: 0;left: 50%;z-index: -1;}#sk-container-id-3 div.sk-parallel-item {display: flex;flex-direction: column;z-index: 1;position: relative;background-color: white;}#sk-container-id-3 div.sk-parallel-item:first-child::after {align-self: flex-end;width: 50%;}#sk-container-id-3 div.sk-parallel-item:last-child::after {align-self: flex-start;width: 50%;}#sk-container-id-3 div.sk-parallel-item:only-child::after {width: 0;}#sk-container-id-3 div.sk-dashed-wrapped {border: 1px dashed gray;margin: 0 0.4em 0.5em 0.4em;box-sizing: border-box;padding-bottom: 0.4em;background-color: white;}#sk-container-id-3 div.sk-label label {font-family: monospace;font-weight: bold;display: inline-block;line-height: 1.2em;}#sk-container-id-3 div.sk-label-container {text-align: center;}#sk-container-id-3 div.sk-container {/* jupyter's `normalize.less` sets `[hidden] { display: none; }` but bootstrap.min.css set `[hidden] { display: none !important; }` so we also need the `!important` here to be able to override the default hidden behavior on the sphinx rendered scikit-learn.org. See: https://github.com/scikit-learn/scikit-learn/issues/21755 */display: inline-block !important;position: relative;}#sk-container-id-3 div.sk-text-repr-fallback {display: none;}</style><div id=\"sk-container-id-3\" class=\"sk-top-container\"><div class=\"sk-text-repr-fallback\"><pre>RandomForestClassifier()</pre><b>In a Jupyter environment, please rerun this cell to show the HTML representation or trust the notebook. <br />On GitHub, the HTML representation is unable to render, please try loading this page with nbviewer.org.</b></div><div class=\"sk-container\" hidden><div class=\"sk-item\"><div class=\"sk-estimator sk-toggleable\"><input class=\"sk-toggleable__control sk-hidden--visually\" id=\"sk-estimator-id-3\" type=\"checkbox\" checked><label for=\"sk-estimator-id-3\" class=\"sk-toggleable__label sk-toggleable__label-arrow\">RandomForestClassifier</label><div class=\"sk-toggleable__content\"><pre>RandomForestClassifier()</pre></div></div></div></div></div>"
            ]
          },
          "metadata": {},
          "execution_count": 72
        }
      ]
    },
    {
      "cell_type": "markdown",
      "source": [
        "**# Step 8: Make predictions using the trained model**"
      ],
      "metadata": {
        "id": "ifM6vN3VlkIi"
      }
    },
    {
      "cell_type": "code",
      "source": [
        "# Step 8: Make predictions using the trained model\n",
        "y_pred = RFCmodel.predict(X_test_weighted)"
      ],
      "metadata": {
        "id": "LefFwV_Vlj3j"
      },
      "execution_count": 73,
      "outputs": []
    },
    {
      "cell_type": "markdown",
      "source": [
        "# Step 9: Evaluate the model performance"
      ],
      "metadata": {
        "id": "lWkp7f2nl3u-"
      }
    },
    {
      "cell_type": "code",
      "source": [
        "# Step 9: Evaluate the model performance\n",
        "accuracy = accuracy_score(y_test, y_pred)\n",
        "print(f\"Accuracy: {accuracy}\")"
      ],
      "metadata": {
        "colab": {
          "base_uri": "https://localhost:8080/"
        },
        "id": "1MImmJ_yl599",
        "outputId": "97022e15-96c7-481b-bfb8-73a3ed39709b"
      },
      "execution_count": 74,
      "outputs": [
        {
          "output_type": "stream",
          "name": "stdout",
          "text": [
            "Accuracy: 0.2\n"
          ]
        }
      ]
    },
    {
      "cell_type": "markdown",
      "source": [
        "**# Step 10: Use the model for future predictions or decision-making**\n",
        "# ... (Code to use the trained model for making predictions on new data)"
      ],
      "metadata": {
        "id": "8bTh9UY4mE1d"
      }
    },
    {
      "cell_type": "code",
      "source": [
        "# # Assuming you have new data for prediction\n",
        "# [[0.8, 1, -0.5]]\n",
        "# new_data = [[0.8, 1, -0.5]]  # Your new data - AHP Weights\n",
        "\n",
        "# # Step 10: Preprocess the new data (similar to Step 3)\n",
        "# new_data_scaled = scaler.transform(new_data)  # Assuming you used a scaler for preprocessing\n",
        "\n",
        "# # Step 10: Apply the AHP-weighted features to the new data\n",
        "# new_data_weighted = new_data_scaled * feature_weights\n",
        "\n",
        "# # Step 10: Make predictions using the trained model\n",
        "# new_predictions = RFCmodel.predict(new_data_weighted)\n",
        "\n",
        "# # Step 10: Use the predictions for decision-making or further analysis\n",
        "# print(\"New Data:\")\n",
        "# for data, prediction in zip(new_data, new_predictions):\n",
        "#     print(f\"Input: {data}, Prediction: {prediction}\")"
      ],
      "metadata": {
        "id": "T4V59pcXmLQ4"
      },
      "execution_count": 75,
      "outputs": []
    },
    {
      "cell_type": "code",
      "source": [
        "# Make predictions on new data\n",
        "new_data = [[0.7, 6, -0.9]]  # Example new data point - # Your new data - AHP Weights\n",
        "predictions = RFCmodel.predict(new_data)\n",
        "\n",
        "# Print the predicted alternative\n",
        "print(\"Predicted alternative:\", predictions[0])"
      ],
      "metadata": {
        "colab": {
          "base_uri": "https://localhost:8080/"
        },
        "id": "Zq0EiB29wZFr",
        "outputId": "670e4dd1-5a37-4c82-ab10-7a37d88c67e4"
      },
      "execution_count": 76,
      "outputs": [
        {
          "output_type": "stream",
          "name": "stdout",
          "text": [
            "Predicted alternative: Applicant D\n"
          ]
        },
        {
          "output_type": "stream",
          "name": "stderr",
          "text": [
            "/usr/local/lib/python3.10/dist-packages/sklearn/base.py:439: UserWarning: X does not have valid feature names, but RandomForestClassifier was fitted with feature names\n",
            "  warnings.warn(\n"
          ]
        }
      ]
    },
    {
      "cell_type": "markdown",
      "source": [
        "**Done**"
      ],
      "metadata": {
        "id": "4--6gDf-D1Bz"
      }
    },
    {
      "cell_type": "code",
      "source": [
        "# Step 7,8,9:\n",
        "# Step 7: Train the machine learning model - Naive Bayes | GaussianNB\n",
        "from sklearn.naive_bayes import GaussianNB\n",
        "GNBmodel = GaussianNB()\n",
        "GNBmodel.fit(X_train_weighted, y_train)\n",
        "# Step 8: Make predictions using the trained model\n",
        "y_pred = GNBmodel.predict(X_test_weighted)\n",
        "# Step 9: Evaluate the model performance\n",
        "accuracy = accuracy_score(y_test, y_pred)\n",
        "print(f\"Accuracy: {accuracy}\")"
      ],
      "metadata": {
        "colab": {
          "base_uri": "https://localhost:8080/"
        },
        "id": "w6kIYhqUD7Gi",
        "outputId": "436245fe-c735-4414-d60e-df0b6185af9b"
      },
      "execution_count": 77,
      "outputs": [
        {
          "output_type": "stream",
          "name": "stdout",
          "text": [
            "Accuracy: 0.2\n"
          ]
        }
      ]
    },
    {
      "cell_type": "code",
      "source": [
        "# Step 7,8,9:\n",
        "# Step 7: Train the machine learning model - K Neighbors Classifier\n",
        "from sklearn.neighbors import KNeighborsClassifier\n",
        "KNCmodel = KNeighborsClassifier(n_neighbors=3)\n",
        "KNCmodel.fit(X_train_weighted, y_train)\n",
        "# Step 8: Make predictions using the trained model\n",
        "y_pred = KNCmodel.predict(X_test_weighted)\n",
        "# Step 9: Evaluate the model performance\n",
        "accuracy = accuracy_score(y_test, y_pred)\n",
        "print(f\"Accuracy: {accuracy}\")"
      ],
      "metadata": {
        "colab": {
          "base_uri": "https://localhost:8080/"
        },
        "id": "CfIMHEHXEc6p",
        "outputId": "7abdddd4-9456-4dd8-da80-9aa6977005f1"
      },
      "execution_count": 78,
      "outputs": [
        {
          "output_type": "stream",
          "name": "stdout",
          "text": [
            "Accuracy: 0.2\n"
          ]
        }
      ]
    },
    {
      "cell_type": "code",
      "source": [
        "# Step 7,8,9:\n",
        "# Step 7: Train the machine learning model - Logistic Regression\n",
        "from sklearn.linear_model import LogisticRegression\n",
        "LRmodel = LogisticRegression()\n",
        "LRmodel.fit(X_train_weighted, y_train)\n",
        "# Step 8: Make predictions using the trained model\n",
        "y_pred = LRmodel.predict(X_test_weighted)\n",
        "# Step 9: Evaluate the model performance\n",
        "accuracy = accuracy_score(y_test, y_pred)\n",
        "print(f\"Accuracy: {accuracy}\")"
      ],
      "metadata": {
        "colab": {
          "base_uri": "https://localhost:8080/"
        },
        "id": "mZbFoqM_HQAX",
        "outputId": "790184b2-25ce-4a35-eaac-c388865d6422"
      },
      "execution_count": 79,
      "outputs": [
        {
          "output_type": "stream",
          "name": "stdout",
          "text": [
            "Accuracy: 0.3\n"
          ]
        }
      ]
    },
    {
      "cell_type": "code",
      "source": [
        "# Step 7,8,9:\n",
        "# Step 7: Train the machine learning model - Support Vector Machine\n",
        "from sklearn.svm import SVC\n",
        "SVMmodel =SVC(gamma='auto')\n",
        "SVMmodel.fit(X_train_weighted, y_train)\n",
        "# Step 8: Make predictions using the trained model\n",
        "y_pred = SVMmodel.predict(X_test_weighted)\n",
        "# Step 9: Evaluate the model performance\n",
        "accuracy = accuracy_score(y_test, y_pred)\n",
        "print(f\"Accuracy: {accuracy}\")"
      ],
      "metadata": {
        "colab": {
          "base_uri": "https://localhost:8080/"
        },
        "id": "2UzDp4sCHe3J",
        "outputId": "350c36e6-7418-4a06-8311-f7449cca1448"
      },
      "execution_count": 80,
      "outputs": [
        {
          "output_type": "stream",
          "name": "stdout",
          "text": [
            "Accuracy: 0.35\n"
          ]
        }
      ]
    },
    {
      "cell_type": "code",
      "source": [
        "# Step 7,8,9:\n",
        "# Step 7: Train the machine learning model - Decision Tree Classifier\n",
        "from sklearn.tree import DecisionTreeClassifier\n",
        "DCmodel =DecisionTreeClassifier()\n",
        "DCmodel.fit(X_train_weighted, y_train)\n",
        "# Step 8: Make predictions using the trained model\n",
        "y_pred = DCmodel.predict(X_test_weighted)\n",
        "# Step 9: Evaluate the model performance\n",
        "accuracy = accuracy_score(y_test, y_pred)\n",
        "print(f\"Accuracy: {accuracy}\")"
      ],
      "metadata": {
        "colab": {
          "base_uri": "https://localhost:8080/"
        },
        "id": "oU-6Z-uvHyEv",
        "outputId": "8b22cce5-978b-421f-a3c3-cf2c0f4bb6f2"
      },
      "execution_count": 81,
      "outputs": [
        {
          "output_type": "stream",
          "name": "stdout",
          "text": [
            "Accuracy: 0.15\n"
          ]
        }
      ]
    },
    {
      "cell_type": "markdown",
      "source": [
        "Testing"
      ],
      "metadata": {
        "id": "-dYGZPesM02j"
      }
    }
  ]
}